{
 "cells": [
  {
   "cell_type": "code",
   "execution_count": 6,
   "id": "1d74a607-7dbf-4b91-b573-d532a66efaf1",
   "metadata": {},
   "outputs": [
    {
     "name": "stderr",
     "output_type": "stream",
     "text": [
      "[I 2024-12-27 10:53:35,724] A new study created in memory with name: no-name-d98b9fa6-ef01-469f-9a97-7e6dcd4474df\n"
     ]
    },
    {
     "name": "stdout",
     "output_type": "stream",
     "text": [
      "Starting Optuna optimization...\n"
     ]
    },
    {
     "name": "stderr",
     "output_type": "stream",
     "text": [
      "/opt/anaconda3/lib/python3.12/site-packages/sklearn/metrics/_classification.py:2910: FutureWarning: Setting the eps parameter is deprecated and will be removed in 1.5. Instead eps will always havea default value of `np.finfo(y_pred.dtype).eps`.\n",
      "  warnings.warn(\n",
      "/opt/anaconda3/lib/python3.12/site-packages/sklearn/metrics/_classification.py:2981: UserWarning: The y_pred values do not sum to one. Starting from 1.5 thiswill result in an error.\n",
      "  warnings.warn(\n",
      "[I 2024-12-27 11:05:02,243] Trial 0 finished with value: 23.896101628737412 and parameters: {'n_neighbors': 5, 'weights': 'distance', 'p': 1}. Best is trial 0 with value: 23.896101628737412.\n",
      "/opt/anaconda3/lib/python3.12/site-packages/sklearn/metrics/_classification.py:2910: FutureWarning: Setting the eps parameter is deprecated and will be removed in 1.5. Instead eps will always havea default value of `np.finfo(y_pred.dtype).eps`.\n",
      "  warnings.warn(\n",
      "/opt/anaconda3/lib/python3.12/site-packages/sklearn/metrics/_classification.py:2981: UserWarning: The y_pred values do not sum to one. Starting from 1.5 thiswill result in an error.\n",
      "  warnings.warn(\n",
      "[I 2024-12-27 11:16:26,660] Trial 1 finished with value: 21.171960547815942 and parameters: {'n_neighbors': 23, 'weights': 'distance', 'p': 1}. Best is trial 1 with value: 21.171960547815942.\n",
      "/opt/anaconda3/lib/python3.12/site-packages/sklearn/metrics/_classification.py:2910: FutureWarning: Setting the eps parameter is deprecated and will be removed in 1.5. Instead eps will always havea default value of `np.finfo(y_pred.dtype).eps`.\n",
      "  warnings.warn(\n",
      "/opt/anaconda3/lib/python3.12/site-packages/sklearn/metrics/_classification.py:2981: UserWarning: The y_pred values do not sum to one. Starting from 1.5 thiswill result in an error.\n",
      "  warnings.warn(\n",
      "[I 2024-12-27 11:17:12,919] Trial 2 finished with value: 22.663984526899775 and parameters: {'n_neighbors': 12, 'weights': 'distance', 'p': 2}. Best is trial 1 with value: 21.171960547815942.\n"
     ]
    },
    {
     "name": "stdout",
     "output_type": "stream",
     "text": [
      "Best parameters: {'n_neighbors': 23, 'weights': 'distance', 'p': 1}\n",
      "Training the optimized KNN model...\n",
      "Validation Log Loss (optimized): 21.1720\n"
     ]
    },
    {
     "name": "stderr",
     "output_type": "stream",
     "text": [
      "/opt/anaconda3/lib/python3.12/site-packages/sklearn/metrics/_classification.py:2910: FutureWarning: Setting the eps parameter is deprecated and will be removed in 1.5. Instead eps will always havea default value of `np.finfo(y_pred.dtype).eps`.\n",
      "  warnings.warn(\n",
      "/opt/anaconda3/lib/python3.12/site-packages/sklearn/metrics/_classification.py:2981: UserWarning: The y_pred values do not sum to one. Starting from 1.5 thiswill result in an error.\n",
      "  warnings.warn(\n"
     ]
    }
   ],
   "source": [
    "import pandas as pd\n",
    "import numpy as np\n",
    "from sklearn.model_selection import train_test_split\n",
    "from sklearn.neighbors import KNeighborsClassifier\n",
    "from sklearn.multioutput import MultiOutputClassifier\n",
    "from sklearn.metrics import log_loss\n",
    "from sklearn.preprocessing import StandardScaler\n",
    "from sklearn.decomposition import PCA\n",
    "import optuna\n",
    "\n",
    "# Load data\n",
    "train_features = pd.read_csv(\"train_features.csv\")\n",
    "train_targets = pd.read_csv(\"train_targets_scored.csv\")\n",
    "\n",
    "# Use a fraction of data for faster iterations\n",
    "fraction = 0.4  # Adjust fraction for computational feasibility\n",
    "train_features = train_features.sample(frac=fraction, random_state=42).reset_index(drop=True)\n",
    "train_targets = train_targets.loc[train_features.index].reset_index(drop=True)\n",
    "\n",
    "# Preprocessing\n",
    "X = train_features.drop(columns=[\"sig_id\"])\n",
    "y = train_targets.drop(columns=[\"sig_id\"])\n",
    "\n",
    "# One-hot encode categorical features\n",
    "X = pd.get_dummies(X, columns=[\"cp_type\", \"cp_time\", \"cp_dose\"], drop_first=True)\n",
    "\n",
    "# Standardize features\n",
    "scaler = StandardScaler()\n",
    "X[X.columns] = scaler.fit_transform(X[X.columns])\n",
    "\n",
    "# Apply PCA for dimensionality reduction\n",
    "pca = PCA(n_components=0.95)  # Retain 95% of variance\n",
    "X = pca.fit_transform(X)\n",
    "\n",
    "# Train-validation split\n",
    "X_train, X_val, y_train, y_val = train_test_split(X, y, test_size=0.2, random_state=42)  # Removed stratify=y\n",
    "\n",
    "# Define Optuna objective function for hyperparameter tuning\n",
    "def objective(trial):\n",
    "    # Hyperparameters to optimize\n",
    "    n_neighbors = trial.suggest_int(\"n_neighbors\", 3, 30)\n",
    "    weights = trial.suggest_categorical(\"weights\", [\"uniform\", \"distance\"])\n",
    "    p = trial.suggest_int(\"p\", 1, 2)  # Manhattan (p=1) or Euclidean (p=2)\n",
    "    \n",
    "    # KNN model\n",
    "    knn_model = MultiOutputClassifier(KNeighborsClassifier(n_neighbors=n_neighbors, weights=weights, p=p))\n",
    "    knn_model.fit(X_train, y_train)\n",
    "    \n",
    "    # Predict probabilities for validation set\n",
    "    y_val_pred = np.column_stack([\n",
    "        clf.predict_proba(X_val)[:, 1] if clf.predict_proba(X_val).shape[1] > 1 else clf.predict_proba(X_val)[:, 0]\n",
    "        for clf in knn_model.estimators_\n",
    "    ])\n",
    "    return log_loss(y_val, y_val_pred, eps=1e-15)\n",
    "\n",
    "# Run Optuna optimization\n",
    "print(\"Starting Optuna optimization...\")\n",
    "study = optuna.create_study(direction=\"minimize\")\n",
    "study.optimize(objective, n_trials=3)  # Increase number of trials for better optimization\n",
    "\n",
    "# Get best parameters from Optuna\n",
    "best_params = study.best_params\n",
    "print(f\"Best parameters: {best_params}\")\n",
    "\n",
    "# Train the optimized model\n",
    "print(\"Training the optimized KNN model...\")\n",
    "optimized_knn_model = MultiOutputClassifier(\n",
    "    KNeighborsClassifier(\n",
    "        n_neighbors=best_params[\"n_neighbors\"],\n",
    "        weights=best_params[\"weights\"],\n",
    "        p=best_params[\"p\"]\n",
    "    )\n",
    ")\n",
    "optimized_knn_model.fit(X_train, y_train)\n",
    "\n",
    "# Predict probabilities for validation set\n",
    "y_val_pred = np.column_stack([\n",
    "    clf.predict_proba(X_val)[:, 1] if clf.predict_proba(X_val).shape[1] > 1 else clf.predict_proba(X_val)[:, 0]\n",
    "    for clf in optimized_knn_model.estimators_\n",
    "])\n",
    "\n",
    "# Calculate and display validation log loss\n",
    "log_loss_score = log_loss(y_val, y_val_pred, eps=1e-15)\n",
    "print(f\"Validation Log Loss (optimized): {log_loss_score:.4f}\")\n"
   ]
  },
  {
   "cell_type": "code",
   "execution_count": null,
   "id": "6eb9fdcf-fcf0-4062-ad04-3a11f784e6ea",
   "metadata": {},
   "outputs": [],
   "source": []
  },
  {
   "cell_type": "code",
   "execution_count": null,
   "id": "85e8c889-c01d-4f39-ba8b-799a60e0ab28",
   "metadata": {},
   "outputs": [],
   "source": []
  }
 ],
 "metadata": {
  "kernelspec": {
   "display_name": "Python 3 (ipykernel)",
   "language": "python",
   "name": "python3"
  },
  "language_info": {
   "codemirror_mode": {
    "name": "ipython",
    "version": 3
   },
   "file_extension": ".py",
   "mimetype": "text/x-python",
   "name": "python",
   "nbconvert_exporter": "python",
   "pygments_lexer": "ipython3",
   "version": "3.12.4"
  }
 },
 "nbformat": 4,
 "nbformat_minor": 5
}
